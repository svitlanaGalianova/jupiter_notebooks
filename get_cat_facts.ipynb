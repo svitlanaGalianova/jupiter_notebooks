{
 "metadata": {
  "language_info": {
   "codemirror_mode": {
    "name": "ipython",
    "version": 3
   },
   "file_extension": ".py",
   "mimetype": "text/x-python",
   "name": "python",
   "nbconvert_exporter": "python",
   "pygments_lexer": "ipython3",
   "version": "3.8.4-final"
  },
  "orig_nbformat": 2,
  "kernelspec": {
   "name": "Python 3.8.4 64-bit",
   "display_name": "Python 3.8.4 64-bit",
   "metadata": {
    "interpreter": {
     "hash": "1ee38ef4a5a9feb55287fd749643f13d043cb0a7addaab2a9c224cbe137c0062"
    }
   }
  }
 },
 "nbformat": 4,
 "nbformat_minor": 2,
 "cells": [
  {
   "cell_type": "code",
   "execution_count": 75,
   "metadata": {
    "tags": []
   },
   "outputs": [
    {
     "output_type": "stream",
     "name": "stdout",
     "text": "&quot;Many Egyptians worshipped the goddess Bast, who had a woman’s body and a cat’s head.&quot; (c) Alex Wohlbruck\n"
    }
   ],
   "source": [
    "import requests\n",
    "from random import randrange\n",
    "\n",
    "def print_random(response):\n",
    "    length = len(response.json()['all'])\n",
    "    rand_num = randrange(length)\n",
    "    rand_record = response.json()['all'][rand_num]\n",
    "    try:\n",
    "        print(f'\"{rand_record[\"text\"]}\" (c) {rand_record[\"user\"][\"name\"][\"first\"]} {rand_record[\"user\"][\"name\"][\"last\"]}')\n",
    "    except KeyError:\n",
    "        if 'name' not in rand_record:\n",
    "            #facts.append(f'{result[\"text\"]} (c) Unknown')\n",
    "            print(f'{rand_record[\"text\"]} (c) Unknown') \n",
    "\n",
    "def print_all(response):\n",
    "    for result in response.json()['all']:\n",
    "        try:\n",
    "            print(f'\"{result[\"text\"]}\" (c) {result[\"user\"][\"name\"][\"first\"]} {result[\"user\"][\"name\"][\"last\"]}')\n",
    "        except KeyError:\n",
    "            if 'name' not in result:\n",
    "                print(f'{result[\"text\"]} (c) Unknown')\n",
    "        print(\"---\")  \n",
    "\n",
    "url = \"http://cat-fact.herokuapp.com/facts\"\n",
    "response = requests.get(url)      \n",
    "\n",
    "print_random(response)\n",
    "#print_all(response)\n"
   ]
  },
  {
   "cell_type": "code",
   "execution_count": null,
   "metadata": {},
   "outputs": [],
   "source": []
  }
 ]
}